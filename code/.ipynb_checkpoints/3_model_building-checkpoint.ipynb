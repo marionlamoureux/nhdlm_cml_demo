{
 "cells": [
  {
   "cell_type": "markdown",
   "metadata": {},
   "source": [
    "# Part 3: Model Building"
   ]
  },
  {
   "cell_type": "markdown",
   "metadata": {},
   "source": [
    "This notebook demonstrates how to build the **customer churn model** and an **interpretability model** to explain each prediction. In addition to making a prediction of whether a customer will churn, we will also be able to answer the question, \"why are they expected to churn?\"\n",
    "\n",
    "The following work will look fairly standard to anyone having trained machine learning models using Python and Jupyter Notebooks. The CML platform provides a **fully capable Jupyter Notebook environment** that data scientists know and love.\n",
    "\n",
    "If you haven't yet, run through the initialization steps in the README file and Part 1. In Part 1, the data is imported into the table you specified in Hive. All data accesses fetch from Hive if possible, otherwise pulls from local project storage.\n"
   ]
  },
  {
   "cell_type": "markdown",
   "metadata": {},
   "source": [
    "## Load data\n",
    "\n",
    "We again start by creating a `SparkSession` to fetch the data using Spark SQL, only this time we convert to a pandas `DataFrame` since we saw earlier that there are only 7k records in the dataset.\n"
   ]
  },
  {
   "cell_type": "code",
   "execution_count": 3,
   "metadata": {
    "tags": []
   },
   "outputs": [
    {
     "name": "stdout",
     "output_type": "stream",
     "text": [
      "root\n",
      " |-- Loan_ID: string (nullable = true)\n",
      " |-- Gender: string (nullable = true)\n",
      " |-- Married: string (nullable = true)\n",
      " |-- Dependents: string (nullable = true)\n",
      " |-- Education: string (nullable = true)\n",
      " |-- Self_Employed: string (nullable = true)\n",
      " |-- ApplicantIncome: double (nullable = true)\n",
      " |-- CoapplicantIncome: double (nullable = true)\n",
      " |-- LoanAmount: double (nullable = true)\n",
      " |-- Loan_Amount_Term: double (nullable = true)\n",
      " |-- CreditHistory: string (nullable = true)\n",
      " |-- Property_Area: string (nullable = true)\n",
      " |-- Loan_Status: string (nullable = true)\n",
      "\n"
     ]
    }
   ],
   "source": [
    "import os\n",
    "from pyspark.sql import SparkSession\n",
    "from pyspark.sql.types import *\n",
    "\n",
    "hive_database = os.environ['HIVE_DATABASE']\n",
    "hive_table = os.environ['HIVE_TABLE']\n",
    "hive_table_fq = hive_database + '.' + hive_table\n",
    "\n",
    "# connect to Spark\n",
    "spark = SparkSession\\\n",
    "    .builder\\\n",
    "    .appName(\"Loan Data Set\")\\\n",
    "    .master(\"local[*]\") \\\n",
    "    .getOrCreate()\n",
    "\n",
    "# read data into a Spark DataFrame\n",
    "if os.environ[\"STORAGE_MODE\"] == \"external\":\n",
    "    loan_data_raw = spark.sql(\"SELECT * FROM \" + hive_table_fq)\n",
    "else:\n",
    "    path = \"/home/cdsw/raw/loan_data.csv\"\n",
    "    schema = StructType(\n",
    "        [\n",
    "            StructField(\"Loan_ID\", StringType(), True),\n",
    "            StructField(\"Gender\", StringType(), True),\n",
    "            StructField(\"Married\", StringType(), True),\n",
    "            StructField(\"Dependents\", StringType(), True),\n",
    "            StructField(\"Education\", StringType(), True),\n",
    "            StructField(\"Self_Employed\", StringType(), True),\n",
    "            StructField(\"ApplicantIncome\", DoubleType(), True),\n",
    "            StructField(\"CoapplicantIncome\", DoubleType(), True),\n",
    "            StructField(\"LoanAmount\", DoubleType(), True),\n",
    "            StructField(\"Loan_Amount_Term\", DoubleType(), True),\n",
    "            StructField(\"CreditHistory\", StringType(), True),\n",
    "            StructField(\"Property_Area\", StringType(), True),\n",
    "            StructField(\"Loan_Status\", StringType(), True),\n",
    "        ]\n",
    "    )\n",
    "    loan_data_raw = spark.read.csv(path, header=True, sep=\",\", schema=schema, nullValue=\"NA\")\n",
    "\n",
    "loan_data_raw.printSchema()\n",
    "df = loan_data_raw.toPandas()"
   ]
  },
  {
   "cell_type": "markdown",
   "metadata": {},
   "source": [
    "## Basic feature engineering\n",
    "\n",
    "\n",
    "Next we munge the data into appropriate types for later steps. \n",
    "In particular, we want to convert all the binary and string columns into pandas `Categorical` types.\n",
    "\n"
   ]
  },
  {
   "cell_type": "code",
   "execution_count": 4,
   "metadata": {
    "tags": []
   },
   "outputs": [],
   "source": [
    "import subprocess, glob, sys\n",
    "import dill\n",
    "import pandas as pd\n",
    "import numpy as np\n",
    "import matplotlib.pyplot as plt\n",
    "\n",
    "data_dir = '/home/cdsw'"
   ]
  },
  {
   "cell_type": "code",
   "execution_count": 5,
   "metadata": {
    "tags": []
   },
   "outputs": [],
   "source": [
    "idcol = 'Loan_ID'  # ID column\n",
    "labelcol = 'Loan_Status'  # label column\n",
    "cols = (\n",
    "  # (feature column, Categorical?)\n",
    "    ('Gender', True),\n",
    "    ('Married', True),\n",
    "    ('Dependents', True),\n",
    "    ('Education', True),\n",
    "    ('Self_Employed', True),\n",
    "    ('ApplicantIncome', False),\n",
    "    ('CoapplicantIncome', False),\n",
    "    ('LoanAmount', False),\n",
    "    ('Loan_Amount_Term', False),\n",
    "    ('CreditHistory', True),\n",
    "    ('Property_Area', True),\n",
    ")"
   ]
  },
  {
   "cell_type": "code",
   "execution_count": 10,
   "metadata": {
    "tags": []
   },
   "outputs": [
    {
     "data": {
      "text/html": [
       "<div>\n",
       "<style scoped>\n",
       "    .dataframe tbody tr th:only-of-type {\n",
       "        vertical-align: middle;\n",
       "    }\n",
       "\n",
       "    .dataframe tbody tr th {\n",
       "        vertical-align: top;\n",
       "    }\n",
       "\n",
       "    .dataframe thead th {\n",
       "        text-align: right;\n",
       "    }\n",
       "</style>\n",
       "<table border=\"1\" class=\"dataframe\">\n",
       "  <thead>\n",
       "    <tr style=\"text-align: right;\">\n",
       "      <th></th>\n",
       "      <th>Gender</th>\n",
       "      <th>Married</th>\n",
       "      <th>Dependents</th>\n",
       "      <th>Education</th>\n",
       "      <th>Self_Employed</th>\n",
       "      <th>ApplicantIncome</th>\n",
       "      <th>CoapplicantIncome</th>\n",
       "      <th>LoanAmount</th>\n",
       "      <th>Loan_Amount_Term</th>\n",
       "      <th>CreditHistory</th>\n",
       "      <th>Property_Area</th>\n",
       "    </tr>\n",
       "    <tr>\n",
       "      <th>id</th>\n",
       "      <th></th>\n",
       "      <th></th>\n",
       "      <th></th>\n",
       "      <th></th>\n",
       "      <th></th>\n",
       "      <th></th>\n",
       "      <th></th>\n",
       "      <th></th>\n",
       "      <th></th>\n",
       "      <th></th>\n",
       "      <th></th>\n",
       "    </tr>\n",
       "  </thead>\n",
       "  <tbody>\n",
       "    <tr>\n",
       "      <th>0</th>\n",
       "      <td>Male</td>\n",
       "      <td>Yes</td>\n",
       "      <td>1</td>\n",
       "      <td>Graduate</td>\n",
       "      <td>No</td>\n",
       "      <td>4583.0</td>\n",
       "      <td>1508.0</td>\n",
       "      <td>128.0</td>\n",
       "      <td>360.0</td>\n",
       "      <td>Yes</td>\n",
       "      <td>Rural</td>\n",
       "    </tr>\n",
       "    <tr>\n",
       "      <th>1</th>\n",
       "      <td>Male</td>\n",
       "      <td>Yes</td>\n",
       "      <td>0</td>\n",
       "      <td>Graduate</td>\n",
       "      <td>Yes</td>\n",
       "      <td>3000.0</td>\n",
       "      <td>0.0</td>\n",
       "      <td>66.0</td>\n",
       "      <td>360.0</td>\n",
       "      <td>Yes</td>\n",
       "      <td>Urban</td>\n",
       "    </tr>\n",
       "    <tr>\n",
       "      <th>2</th>\n",
       "      <td>Male</td>\n",
       "      <td>Yes</td>\n",
       "      <td>0</td>\n",
       "      <td>Not Graduate</td>\n",
       "      <td>No</td>\n",
       "      <td>2583.0</td>\n",
       "      <td>2358.0</td>\n",
       "      <td>120.0</td>\n",
       "      <td>360.0</td>\n",
       "      <td>Yes</td>\n",
       "      <td>Urban</td>\n",
       "    </tr>\n",
       "    <tr>\n",
       "      <th>3</th>\n",
       "      <td>Male</td>\n",
       "      <td>No</td>\n",
       "      <td>0</td>\n",
       "      <td>Graduate</td>\n",
       "      <td>No</td>\n",
       "      <td>6000.0</td>\n",
       "      <td>0.0</td>\n",
       "      <td>141.0</td>\n",
       "      <td>360.0</td>\n",
       "      <td>Yes</td>\n",
       "      <td>Urban</td>\n",
       "    </tr>\n",
       "    <tr>\n",
       "      <th>4</th>\n",
       "      <td>Male</td>\n",
       "      <td>Yes</td>\n",
       "      <td>2</td>\n",
       "      <td>Graduate</td>\n",
       "      <td>Yes</td>\n",
       "      <td>5417.0</td>\n",
       "      <td>4196.0</td>\n",
       "      <td>267.0</td>\n",
       "      <td>360.0</td>\n",
       "      <td>Yes</td>\n",
       "      <td>Urban</td>\n",
       "    </tr>\n",
       "  </tbody>\n",
       "</table>\n",
       "</div>"
      ],
      "text/plain": [
       "   Gender Married Dependents     Education Self_Employed  ApplicantIncome  \\\n",
       "id                                                                          \n",
       "0    Male     Yes          1      Graduate            No           4583.0   \n",
       "1    Male     Yes          0      Graduate           Yes           3000.0   \n",
       "2    Male     Yes          0  Not Graduate            No           2583.0   \n",
       "3    Male      No          0      Graduate            No           6000.0   \n",
       "4    Male     Yes          2      Graduate           Yes           5417.0   \n",
       "\n",
       "    CoapplicantIncome  LoanAmount  Loan_Amount_Term CreditHistory  \\\n",
       "id                                                                  \n",
       "0              1508.0       128.0             360.0           Yes   \n",
       "1                 0.0        66.0             360.0           Yes   \n",
       "2              2358.0       120.0             360.0           Yes   \n",
       "3                 0.0       141.0             360.0           Yes   \n",
       "4              4196.0       267.0             360.0           Yes   \n",
       "\n",
       "   Property_Area  \n",
       "id                \n",
       "0          Rural  \n",
       "1          Urban  \n",
       "2          Urban  \n",
       "3          Urban  \n",
       "4          Urban  "
      ]
     },
     "execution_count": 10,
     "metadata": {},
     "output_type": "execute_result"
    }
   ],
   "source": [
    "# data preprocessing and munging\n",
    "\n",
    "df = df.replace(r'^\\s$', np.nan, regex=True).dropna().reset_index()  # drop blank rows\n",
    "df.index.name = 'id'  # name the index\n",
    "data, labels = df.drop(labelcol, axis=1), df[labelcol]  # separate out the labels\n",
    "data = data[[c for c, _ in cols]]  # only use the columns named in `cols`\n",
    "data = data.replace({'CreditHistory': {'1': 'Yes', '0': 'No'}})  # Change 1/0 to Yes/No to match the other binary features\n",
    "\n",
    "# convert the categorical columns to pd.Categorical form\n",
    "for col, iscat in cols:\n",
    "    if iscat:\n",
    "        data[col] = pd.Categorical(data[col])\n",
    "labels = (labels == 'Y')  # convert labels from str to bool\n",
    "\n",
    "data.head()"
   ]
  },
  {
   "cell_type": "markdown",
   "metadata": {},
   "source": [
    "## Machine Learning Model Training\n",
    "\n",
    "This step follows a fairly standard ML workflow, which is to create a pipeline to:\n",
    "\n",
    "* Encode the categorical features as numeric\n",
    "* Normalize the numeric features\n",
    "* Train a classification model using these processed features\n",
    "\n",
    "We use *one-hot encoding*, *standardization*, and *logistic regression with cross-validation* for the three steps.\n",
    "Then we can evaluate the model's performance.\n",
    "\n",
    "Note: `CategoricalEncoder` and, later, `ExplainedModel` are helper classes pulled and edited from the original CFFL [interpretability report code](https://ff06-2020.fastforwardlabs.com/).\n",
    "You can inspect `churnexplainer.py` to see what they do under the hood.\n",
    "CML lets you continue to write modular code to keep things segregated and clean."
   ]
  },
  {
   "cell_type": "code",
   "execution_count": 11,
   "metadata": {
    "tags": []
   },
   "outputs": [],
   "source": [
    "from sklearn.model_selection import train_test_split\n",
    "from sklearn.metrics import classification_report\n",
    "from sklearn.preprocessing import OneHotEncoder, StandardScaler\n",
    "from sklearn.pipeline import Pipeline\n",
    "from sklearn.linear_model import LogisticRegressionCV, LogisticRegression\n",
    "from sklearn.compose import ColumnTransformer\n",
    "\n",
    "from eligibility_explainer import CategoricalEncoder  # convert Categorical columns into numeric"
   ]
  },
  {
   "cell_type": "code",
   "execution_count": null,
   "metadata": {
    "tags": []
   },
   "outputs": [],
   "source": []
  },
  {
   "cell_type": "code",
   "execution_count": null,
   "metadata": {},
   "outputs": [],
   "source": []
  },
  {
   "cell_type": "code",
   "execution_count": 36,
   "metadata": {
    "tags": []
   },
   "outputs": [],
   "source": [
    "ce = CategoricalEncoder()\n",
    "X = ce.fit_transform(data)  # Categorical columns now have values 0 to num_categories-1\n",
    "y = labels.values\n",
    "X_train, X_test, y_train, y_test = train_test_split(X, y, random_state=44)\n",
    "\n",
    "cat_cols = list(ce.cat_columns_ix_.values())  # indices of the categorical columns (now numeric)\n",
    "ct = ColumnTransformer(\n",
    "    [('ohe', OneHotEncoder(), cat_cols)],\n",
    "    remainder='passthrough'\n",
    ")\n",
    "clf = LogisticRegressionCV(cv=5,solver='lbfgs', max_iter=100)"
   ]
  },
  {
   "cell_type": "code",
   "execution_count": 37,
   "metadata": {
    "tags": []
   },
   "outputs": [
    {
     "name": "stdout",
     "output_type": "stream",
     "text": [
      "train 0.7861111111111111\n",
      "test 0.875\n",
      "              precision    recall  f1-score   support\n",
      "\n",
      "       False       0.89      0.57      0.69        30\n",
      "        True       0.87      0.98      0.92        90\n",
      "\n",
      "    accuracy                           0.88       120\n",
      "   macro avg       0.88      0.77      0.81       120\n",
      "weighted avg       0.88      0.88      0.86       120\n",
      "\n"
     ]
    },
    {
     "name": "stderr",
     "output_type": "stream",
     "text": [
      "/home/cdsw/.local/lib/python3.7/site-packages/sklearn/preprocessing/_encoders.py:415: FutureWarning: The handling of integer data will change in version 0.22. Currently, the categories are determined based on the range [0, max(values)], while in the future they will be determined based on the unique values.\n",
      "If you want the future behaviour and silence this warning, you can specify \"categories='auto'\".\n",
      "In case you used a LabelEncoder before this OneHotEncoder to convert the categories to integers, then you can now use the OneHotEncoder directly.\n",
      "  warnings.warn(msg, FutureWarning)\n"
     ]
    }
   ],
   "source": [
    "pipe = Pipeline([('ct', ct),  # 1. Encode the categorical features as numeric\n",
    "                 ('scaler', StandardScaler()),  # 2. Normalize the numeric features\n",
    "                 ('clf', clf)])  # 3. Train a classification model using these processed features\n",
    "pipe.fit(X_train, y_train)\n",
    "train_score = pipe.score(X_train, y_train)\n",
    "test_score = pipe.score(X_test, y_test)\n",
    "print(\"train\",train_score)\n",
    "print(\"test\", test_score)    \n",
    "print(classification_report(y_test, pipe.predict(X_test)))"
   ]
  },
  {
   "cell_type": "markdown",
   "metadata": {},
   "source": [
    "### Compare with Random Forest\n",
    "Just for a comparison, lets compare this model to a Random Forest model.\n",
    "This is simpler since Random Forests do not need the categorical features encoded with a `OneHotEncoder`."
   ]
  },
  {
   "cell_type": "code",
   "execution_count": 38,
   "metadata": {
    "tags": []
   },
   "outputs": [
    {
     "name": "stdout",
     "output_type": "stream",
     "text": [
      "train 1.0\n",
      "test 0.8416666666666667\n",
      "              precision    recall  f1-score   support\n",
      "\n",
      "       False       0.72      0.60      0.65        30\n",
      "        True       0.87      0.92      0.90        90\n",
      "\n",
      "    accuracy                           0.84       120\n",
      "   macro avg       0.80      0.76      0.78       120\n",
      "weighted avg       0.84      0.84      0.84       120\n",
      "\n"
     ]
    }
   ],
   "source": [
    "from sklearn.ensemble import RandomForestClassifier\n",
    "clf_rf = RandomForestClassifier(n_estimators=100)\n",
    "pipe_rf = Pipeline([('scaler', StandardScaler()),\n",
    "                 ('clf', clf_rf)])\n",
    "pipe_rf.fit(X_train, y_train)\n",
    "train_score = pipe_rf.score(X_train, y_train)\n",
    "test_score = pipe_rf.score(X_test, y_test)\n",
    "print(\"train\",train_score)\n",
    "print(\"test\", test_score)\n",
    "print(classification_report(y_test, pipe_rf.predict(X_test)))"
   ]
  },
  {
   "cell_type": "markdown",
   "metadata": {},
   "source": [
    "### Plot ROC Curve\n",
    "\n",
    "We can also generate an ROC Curve to visualize the model's performance and calculate the AUROC"
   ]
  },
  {
   "cell_type": "code",
   "execution_count": 39,
   "metadata": {
    "tags": []
   },
   "outputs": [
    {
     "name": "stdout",
     "output_type": "stream",
     "text": [
      "Logistic: AUROC=0.821\n"
     ]
    },
    {
     "data": {
      "image/png": "[encoded data removed]",
      "text/plain": [
       "<Figure size 432x288 with 1 Axes>"
      ]
     },
     "metadata": {
      "needs_background": "light"
     },
     "output_type": "display_data"
    }
   ],
   "source": [
    "from sklearn.metrics import roc_curve\n",
    "from sklearn.metrics import roc_auc_score\n",
    "from matplotlib import pyplot\n",
    "\n",
    "logistic_regression_probabilities = pipe.predict_proba(X_test)\n",
    "logistic_regression_probabilities = logistic_regression_probabilities[:, 1]\n",
    "logistic_regression_auc = roc_auc_score(y_test, logistic_regression_probabilities)\n",
    "print('Logistic: AUROC=%.3f' % (logistic_regression_auc))\n",
    "logistic_regression_fpr, logistic_regression_tpr, _ = roc_curve(y_test, logistic_regression_probabilities)\n",
    "pyplot.plot(logistic_regression_fpr, logistic_regression_tpr, label='Logistic')\n",
    "pyplot.show()"
   ]
  },
  {
   "cell_type": "markdown",
   "metadata": {},
   "source": [
    "We find an AUC of 0.821. Not bad for a quick exercise without fine tuning.\n"
   ]
  },
  {
   "cell_type": "markdown",
   "metadata": {},
   "source": [
    "## Interpretability model\n",
    "We use [lime](https://github.com/marcotcr/lime) (Local Interpretable Model-Agnostic Explanations) to explain the predictions.\n",
    "It is a method of determining which feature has the greatest effect on the predicted value,\n",
    "and is explained in depth in the the [FFL report](https://ff06-2020.fastforwardlabs.com/).\n",
    "For more information, refer to the [lime documentation](https://lime-ml.readthedocs.io/en/latest/lime.html)."
   ]
  },
  {
   "cell_type": "code",
   "execution_count": 40,
   "metadata": {
    "tags": []
   },
   "outputs": [],
   "source": [
    "from lime.lime_tabular import LimeTabularExplainer\n",
    "\n",
    "data[labels.name + ' probability'] = pipe.predict_proba(X)[:, 1]\n",
    "\n",
    "# List of length number of features, containing names of features in order\n",
    "# in which they appear in X\n",
    "feature_names = list(ce.columns_)\n",
    "\n",
    "# List of indices of columns of X containing categorical features\n",
    "categorical_features = list(ce.cat_columns_ix_.values())\n",
    "\n",
    "# List of (index, [cat1, cat2...]) index-strings tuples, where each index\n",
    "# is that of a categorical column in X, and the list of strings are the\n",
    "# possible values it can take\n",
    "categorical_names = {i: ce.classes_[c]\n",
    "                     for c, i in ce.cat_columns_ix_.items()}\n",
    "class_names = ['No ' + labels.name, labels.name]\n",
    "explainer = LimeTabularExplainer(ce.transform(data),\n",
    "                                 feature_names=feature_names,\n",
    "                                 class_names=class_names,\n",
    "                                 categorical_features=categorical_features,\n",
    "                                 categorical_names=categorical_names)    "
   ]
  },
  {
   "cell_type": "markdown",
   "metadata": {},
   "source": [
    "## Explaining a Single Prediction\n",
    "\n",
    "Let's look at how one specfic prediction would be interpreted.\n",
    "Lime explains the prediction by giving every feature a weight from -1 to 1.\n",
    "Features with weights closer to -1 have a stronger impact in coming up with a 0 prediction result (will not churn) and vice versa."
   ]
  },
  {
   "cell_type": "code",
   "execution_count": 41,
   "metadata": {
    "tags": []
   },
   "outputs": [
    {
     "data": {
      "text/html": [
       "<div>\n",
       "<style scoped>\n",
       "    .dataframe tbody tr th:only-of-type {\n",
       "        vertical-align: middle;\n",
       "    }\n",
       "\n",
       "    .dataframe tbody tr th {\n",
       "        vertical-align: top;\n",
       "    }\n",
       "\n",
       "    .dataframe thead th {\n",
       "        text-align: right;\n",
       "    }\n",
       "</style>\n",
       "<table border=\"1\" class=\"dataframe\">\n",
       "  <thead>\n",
       "    <tr style=\"text-align: right;\">\n",
       "      <th>id</th>\n",
       "      <th>63</th>\n",
       "    </tr>\n",
       "  </thead>\n",
       "  <tbody>\n",
       "    <tr>\n",
       "      <th>Gender</th>\n",
       "      <td>Male</td>\n",
       "    </tr>\n",
       "    <tr>\n",
       "      <th>Married</th>\n",
       "      <td>Yes</td>\n",
       "    </tr>\n",
       "    <tr>\n",
       "      <th>Dependents</th>\n",
       "      <td>3+</td>\n",
       "    </tr>\n",
       "    <tr>\n",
       "      <th>Education</th>\n",
       "      <td>Graduate</td>\n",
       "    </tr>\n",
       "    <tr>\n",
       "      <th>Self_Employed</th>\n",
       "      <td>No</td>\n",
       "    </tr>\n",
       "    <tr>\n",
       "      <th>ApplicantIncome</th>\n",
       "      <td>3167</td>\n",
       "    </tr>\n",
       "    <tr>\n",
       "      <th>CoapplicantIncome</th>\n",
       "      <td>4000</td>\n",
       "    </tr>\n",
       "    <tr>\n",
       "      <th>LoanAmount</th>\n",
       "      <td>180</td>\n",
       "    </tr>\n",
       "    <tr>\n",
       "      <th>Loan_Amount_Term</th>\n",
       "      <td>300</td>\n",
       "    </tr>\n",
       "    <tr>\n",
       "      <th>CreditHistory</th>\n",
       "      <td>No</td>\n",
       "    </tr>\n",
       "    <tr>\n",
       "      <th>Property_Area</th>\n",
       "      <td>Semiurban</td>\n",
       "    </tr>\n",
       "    <tr>\n",
       "      <th>Loan_Status probability</th>\n",
       "      <td>0.297775</td>\n",
       "    </tr>\n",
       "  </tbody>\n",
       "</table>\n",
       "</div>"
      ],
      "text/plain": [
       "id                              63\n",
       "Gender                        Male\n",
       "Married                        Yes\n",
       "Dependents                      3+\n",
       "Education                 Graduate\n",
       "Self_Employed                   No\n",
       "ApplicantIncome               3167\n",
       "CoapplicantIncome             4000\n",
       "LoanAmount                     180\n",
       "Loan_Amount_Term               300\n",
       "CreditHistory                   No\n",
       "Property_Area            Semiurban\n",
       "Loan_Status probability   0.297775"
      ]
     },
     "execution_count": 41,
     "metadata": {},
     "output_type": "execute_result"
    }
   ],
   "source": [
    "data.sample().T  # reminder of the features"
   ]
  },
  {
   "cell_type": "code",
   "execution_count": 42,
   "metadata": {
    "tags": []
   },
   "outputs": [
    {
     "name": "stdout",
     "output_type": "stream",
     "text": [
      "('CreditHistory=Yes', 0.5008706389690827)\n",
      "('Married=No', -0.08992016996732011)\n",
      "('Property_Area=Rural', -0.07042888782410663)\n",
      "('Education=Graduate', 0.0625489124528232)\n",
      "('Gender=Male', 0.047635420713263626)\n",
      "('CoapplicantIncome <= 0.00', 0.029995746740293722)\n",
      "('Self_Employed=Yes', -0.023815879528426405)\n",
      "('0.63 < Loan_Status probability <= 0.77', 0.016548099930151074)\n",
      "('ApplicantIncome > 5852.50', -0.012845397371145668)\n",
      "('Loan_Amount_Term <= 360.00', 0.011434293700591607)\n"
     ]
    }
   ],
   "source": [
    "exp = explainer.explain_instance(ce.transform(data.sample())[0],pipe.predict_proba)\n",
    "for cols in exp.as_list():\n",
    "    print(cols)"
   ]
  },
  {
   "cell_type": "code",
   "execution_count": 43,
   "metadata": {
    "tags": []
   },
   "outputs": [
    {
     "data": {
      "image/png": "[encoded data removed]",
      "text/plain": [
       "<Figure size 432x288 with 1 Axes>"
      ]
     },
     "metadata": {
      "needs_background": "light"
     },
     "output_type": "display_data"
    }
   ],
   "source": [
    "exp.as_pyplot_figure()\n",
    "plt.tight_layout()"
   ]
  },
  {
   "cell_type": "markdown",
   "metadata": {},
   "source": [
    "## Saving the model\n",
    "Now that we've done all this work to build the models, we want to be able to use them later.\n",
    "The `ExplainedModel` class is a handy wrapper for using the `CategoricalEncoder`, the `Pipeline` object which *is* the loan eligibility model, and the Lime Explainer.\n",
    "Here, we use it to save these trained models for use in later parts of the Project."
   ]
  },
  {
   "cell_type": "code",
   "execution_count": 44,
   "metadata": {
    "tags": []
   },
   "outputs": [],
   "source": [
    "from eligibility_explainer import ExplainedModel\n",
    "\n",
    "# Create and save the combined Logistic Regression and LIME Explained Model.\n",
    "explainedmodel = ExplainedModel(\n",
    "    data=data,\n",
    "    labels=labels,\n",
    "    categoricalencoder=ce,\n",
    "    pipeline=pipe,\n",
    "    explainer=explainer,\n",
    ")\n",
    "\n",
    "explainedmodel.save(model_name='loan_linear')"
   ]
  },
  {
   "cell_type": "code",
   "execution_count": 45,
   "metadata": {
    "tags": []
   },
   "outputs": [],
   "source": [
    "spark.stop()"
   ]
  },
  {
   "cell_type": "markdown",
   "metadata": {},
   "source": [
    "## Wrap up\n",
    "We've now covered all the steps to **building a machine learning model** including interpretability\n",
    "and saved our work for use in later sections.\n",
    "\n",
    "In the next part of the series we will explore how to use the **Experiments** feature of CML\n",
    "for when we want to test lots of combinations of hyperparameters to fine tune our models.\n"
   ]
  },
  {
   "cell_type": "markdown",
   "metadata": {},
   "source": [
    "***If this documentation includes code, including but not limited to, code examples, Cloudera makes this available to you under the terms of the Apache License, Version 2.0, including any required notices.  A copy of the Apache License Version 2.0 can be found [here](https://opensource.org/licenses/Apache-2.0).***"
   ]
  },
  {
   "cell_type": "code",
   "execution_count": null,
   "metadata": {},
   "outputs": [],
   "source": []
  }
 ],
 "metadata": {
  "kernelspec": {
   "display_name": "Python 3 (ipykernel)",
   "language": "python",
   "name": "python3"
  },
  "language_info": {
   "codemirror_mode": {
    "name": "ipython",
    "version": 3
   },
   "file_extension": ".py",
   "mimetype": "text/x-python",
   "name": "python",
   "nbconvert_exporter": "python",
   "pygments_lexer": "ipython3",
   "version": "3.7.16"
  }
 },
 "nbformat": 4,
 "nbformat_minor": 4
}
